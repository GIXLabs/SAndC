{
  "nbformat": 4,
  "nbformat_minor": 0,
  "metadata": {
    "colab": {
      "name": "lab6.ipynb",
      "provenance": [],
      "collapsed_sections": []
    },
    "kernelspec": {
      "name": "python3",
      "display_name": "Python 3"
    },
    "language_info": {
      "name": "python"
    }
  },
  "cells": [
    {
      "cell_type": "code",
      "metadata": {
        "id": "HiqNQHUsviyO"
      },
      "source": [
        "import numpy as np\n",
        "import matplotlib.pyplot as plt\n",
        "import pandas as pd # a data processing and CSV I/O library\n",
        "import datetime as dt"
      ],
      "execution_count": 31,
      "outputs": []
    },
    {
      "cell_type": "code",
      "metadata": {
        "id": "oAl5qDANwGDz"
      },
      "source": [
        "data = pd.read_csv(\"/content/2021-08-25_12_46.csv\")\n",
        "data.head(10)"
      ],
      "execution_count": null,
      "outputs": []
    },
    {
      "cell_type": "code",
      "metadata": {
        "id": "4v4s_RvwV53h"
      },
      "source": [
        "x = data['time']\n",
        "y = data['temperature']\n",
        "plt.figure(figsize=(10,10))\n",
        "plt.plot(x, y)\n",
        "\n",
        "plt.xticks(x[::5],  rotation='vertical')"
      ],
      "execution_count": null,
      "outputs": []
    }
  ]
}